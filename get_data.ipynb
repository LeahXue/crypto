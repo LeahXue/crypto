{
 "cells": [
  {
   "cell_type": "code",
   "execution_count": 92,
   "metadata": {},
   "outputs": [],
   "source": [
    "import ccxt\n",
    "import pandas as pd \n",
    "from tqdm import tqdm"
   ]
  },
  {
   "cell_type": "code",
   "execution_count": 84,
   "metadata": {},
   "outputs": [],
   "source": [
    "def get_data(exchange, s, date): \n",
    "    timeframe = '1m'\n",
    "    bars = 100000\n",
    "    # since = exchange.parse8601(f'{date}T00:00:00Z')\n",
    "    since = exchange.parse8601(date)\n",
    "    ohlcv = exchange.fetch_ohlcv(s, timeframe, since, bars)\n",
    "    df = pd.DataFrame(ohlcv, columns=['timestamp', 'open', 'high', 'low', 'close', 'volume'])\n",
    "    df['timestamp'] = pd.to_datetime(df['timestamp'], unit='ms')\n",
    "    df.set_index('timestamp', inplace=True)\n",
    "    return df"
   ]
  },
  {
   "cell_type": "code",
   "execution_count": 40,
   "metadata": {},
   "outputs": [
    {
     "data": {
      "text/plain": [
       "Timestamp('2021-01-01 16:39:00')"
      ]
     },
     "execution_count": 40,
     "metadata": {},
     "output_type": "execute_result"
    }
   ],
   "source": [
    "pd.concat(dfs).index[-1]"
   ]
  },
  {
   "cell_type": "code",
   "execution_count": 19,
   "metadata": {},
   "outputs": [],
   "source": [
    "exchange = ccxt.binanceus()\n",
    "\n",
    "# extract all symbols supported by the exchange\n",
    "exchange.load_markets()\n",
    "symbols = exchange.symbols"
   ]
  },
  {
   "cell_type": "code",
   "execution_count": 70,
   "metadata": {},
   "outputs": [],
   "source": [
    "# example: \n",
    "dfs = []\n",
    "for s in symbols[:10]: \n",
    "    try: \n",
    "        df = get_data(exchange, s, '2021-01-12')\n",
    "        df[\"symbol\"] = s\n",
    "        dfs.append(df)\n",
    "    except: \n",
    "        pass"
   ]
  },
  {
   "cell_type": "code",
   "execution_count": 78,
   "metadata": {},
   "outputs": [
    {
     "data": {
      "text/plain": [
       "2021"
      ]
     },
     "execution_count": 78,
     "metadata": {},
     "output_type": "execute_result"
    }
   ],
   "source": [
    "dfs[-1].index[-1].year"
   ]
  },
  {
   "cell_type": "markdown",
   "metadata": {},
   "source": [
    "Note, I think limit is around 999? so need to get separately and concate together "
   ]
  },
  {
   "cell_type": "code",
   "execution_count": 89,
   "metadata": {},
   "outputs": [],
   "source": [
    "def get_data_per_symbol(s): \n",
    "    start = \"2022-01-01T00:00:00Z\"\n",
    "    dfs = []\n",
    "    try: \n",
    "        df = get_data(exchange, s, start)\n",
    "    except: \n",
    "        return []\n",
    "    last_date = df.index[-1] \n",
    "    dfs.append(df)\n",
    "    while last_date.year == 2022: \n",
    "        time = pd.concat(dfs).index[-1]\n",
    "        time = time.strftime(\"%Y-%m-%dT%H:%M:%SZ\")\n",
    "        try: \n",
    "            df = get_data(exchange, s, time)\n",
    "        except:\n",
    "            break\n",
    "        last_date = df.index[-1]\n",
    "        dfs.append(df)\n",
    "    df = pd.concat(dfs)\n",
    "    df[\"symbol\"] = s\n",
    "    return df"
   ]
  },
  {
   "cell_type": "code",
   "execution_count": 90,
   "metadata": {},
   "outputs": [
    {
     "data": {
      "text/html": [
       "<div>\n",
       "<style scoped>\n",
       "    .dataframe tbody tr th:only-of-type {\n",
       "        vertical-align: middle;\n",
       "    }\n",
       "\n",
       "    .dataframe tbody tr th {\n",
       "        vertical-align: top;\n",
       "    }\n",
       "\n",
       "    .dataframe thead th {\n",
       "        text-align: right;\n",
       "    }\n",
       "</style>\n",
       "<table border=\"1\" class=\"dataframe\">\n",
       "  <thead>\n",
       "    <tr style=\"text-align: right;\">\n",
       "      <th></th>\n",
       "      <th>open</th>\n",
       "      <th>high</th>\n",
       "      <th>low</th>\n",
       "      <th>close</th>\n",
       "      <th>volume</th>\n",
       "      <th>symbol</th>\n",
       "    </tr>\n",
       "    <tr>\n",
       "      <th>timestamp</th>\n",
       "      <th></th>\n",
       "      <th></th>\n",
       "      <th></th>\n",
       "      <th></th>\n",
       "      <th></th>\n",
       "      <th></th>\n",
       "    </tr>\n",
       "  </thead>\n",
       "  <tbody>\n",
       "    <tr>\n",
       "      <th>2022-01-01 00:00:00</th>\n",
       "      <td>46212.06</td>\n",
       "      <td>46266.73</td>\n",
       "      <td>46208.24</td>\n",
       "      <td>46245.79</td>\n",
       "      <td>0.354754</td>\n",
       "      <td>BTC/USD</td>\n",
       "    </tr>\n",
       "    <tr>\n",
       "      <th>2022-01-01 00:01:00</th>\n",
       "      <td>46233.95</td>\n",
       "      <td>46323.35</td>\n",
       "      <td>46225.56</td>\n",
       "      <td>46303.73</td>\n",
       "      <td>0.393746</td>\n",
       "      <td>BTC/USD</td>\n",
       "    </tr>\n",
       "    <tr>\n",
       "      <th>2022-01-01 00:02:00</th>\n",
       "      <td>46312.26</td>\n",
       "      <td>46370.48</td>\n",
       "      <td>46305.75</td>\n",
       "      <td>46370.21</td>\n",
       "      <td>0.846843</td>\n",
       "      <td>BTC/USD</td>\n",
       "    </tr>\n",
       "    <tr>\n",
       "      <th>2022-01-01 00:03:00</th>\n",
       "      <td>46358.23</td>\n",
       "      <td>46379.75</td>\n",
       "      <td>46309.69</td>\n",
       "      <td>46333.78</td>\n",
       "      <td>0.313366</td>\n",
       "      <td>BTC/USD</td>\n",
       "    </tr>\n",
       "    <tr>\n",
       "      <th>2022-01-01 00:04:00</th>\n",
       "      <td>46328.07</td>\n",
       "      <td>46331.98</td>\n",
       "      <td>46300.00</td>\n",
       "      <td>46322.71</td>\n",
       "      <td>0.124923</td>\n",
       "      <td>BTC/USD</td>\n",
       "    </tr>\n",
       "    <tr>\n",
       "      <th>...</th>\n",
       "      <td>...</td>\n",
       "      <td>...</td>\n",
       "      <td>...</td>\n",
       "      <td>...</td>\n",
       "      <td>...</td>\n",
       "      <td>...</td>\n",
       "    </tr>\n",
       "    <tr>\n",
       "      <th>2023-01-01 15:03:00</th>\n",
       "      <td>16540.30</td>\n",
       "      <td>16540.91</td>\n",
       "      <td>16540.30</td>\n",
       "      <td>16540.91</td>\n",
       "      <td>0.037744</td>\n",
       "      <td>BTC/USD</td>\n",
       "    </tr>\n",
       "    <tr>\n",
       "      <th>2023-01-01 15:04:00</th>\n",
       "      <td>16540.91</td>\n",
       "      <td>16540.91</td>\n",
       "      <td>16538.53</td>\n",
       "      <td>16540.28</td>\n",
       "      <td>0.840938</td>\n",
       "      <td>BTC/USD</td>\n",
       "    </tr>\n",
       "    <tr>\n",
       "      <th>2023-01-01 15:05:00</th>\n",
       "      <td>16540.22</td>\n",
       "      <td>16540.22</td>\n",
       "      <td>16539.65</td>\n",
       "      <td>16539.65</td>\n",
       "      <td>0.022240</td>\n",
       "      <td>BTC/USD</td>\n",
       "    </tr>\n",
       "    <tr>\n",
       "      <th>2023-01-01 15:06:00</th>\n",
       "      <td>16538.11</td>\n",
       "      <td>16540.71</td>\n",
       "      <td>16538.07</td>\n",
       "      <td>16540.52</td>\n",
       "      <td>0.739558</td>\n",
       "      <td>BTC/USD</td>\n",
       "    </tr>\n",
       "    <tr>\n",
       "      <th>2023-01-01 15:07:00</th>\n",
       "      <td>16541.25</td>\n",
       "      <td>16544.35</td>\n",
       "      <td>16541.25</td>\n",
       "      <td>16544.35</td>\n",
       "      <td>0.244504</td>\n",
       "      <td>BTC/USD</td>\n",
       "    </tr>\n",
       "  </tbody>\n",
       "</table>\n",
       "<p>527000 rows × 6 columns</p>\n",
       "</div>"
      ],
      "text/plain": [
       "                         open      high       low     close    volume   symbol\n",
       "timestamp                                                                     \n",
       "2022-01-01 00:00:00  46212.06  46266.73  46208.24  46245.79  0.354754  BTC/USD\n",
       "2022-01-01 00:01:00  46233.95  46323.35  46225.56  46303.73  0.393746  BTC/USD\n",
       "2022-01-01 00:02:00  46312.26  46370.48  46305.75  46370.21  0.846843  BTC/USD\n",
       "2022-01-01 00:03:00  46358.23  46379.75  46309.69  46333.78  0.313366  BTC/USD\n",
       "2022-01-01 00:04:00  46328.07  46331.98  46300.00  46322.71  0.124923  BTC/USD\n",
       "...                       ...       ...       ...       ...       ...      ...\n",
       "2023-01-01 15:03:00  16540.30  16540.91  16540.30  16540.91  0.037744  BTC/USD\n",
       "2023-01-01 15:04:00  16540.91  16540.91  16538.53  16540.28  0.840938  BTC/USD\n",
       "2023-01-01 15:05:00  16540.22  16540.22  16539.65  16539.65  0.022240  BTC/USD\n",
       "2023-01-01 15:06:00  16538.11  16540.71  16538.07  16540.52  0.739558  BTC/USD\n",
       "2023-01-01 15:07:00  16541.25  16544.35  16541.25  16544.35  0.244504  BTC/USD\n",
       "\n",
       "[527000 rows x 6 columns]"
      ]
     },
     "execution_count": 90,
     "metadata": {},
     "output_type": "execute_result"
    }
   ],
   "source": [
    "# example: \n",
    "get_data_per_symbol(\"BTC/USD\")"
   ]
  },
  {
   "cell_type": "code",
   "execution_count": 94,
   "metadata": {},
   "outputs": [
    {
     "name": "stderr",
     "output_type": "stream",
     "text": [
      "  1%|          | 5/541 [02:49<5:08:53, 34.58s/it]"
     ]
    }
   ],
   "source": [
    "for s in tqdm(symbols): \n",
    "    df = get_data_per_symbol(s) \n",
    "    if len(df) == 0: \n",
    "        continue\n",
    "    base = s.split(\"/\")[0]\n",
    "    quote = s.split(\"/\")[1]\n",
    "    df.to_csv(f\"data/{base}_{quote}.csv\")"
   ]
  }
 ],
 "metadata": {
  "kernelspec": {
   "display_name": "Python 3",
   "language": "python",
   "name": "python3"
  },
  "language_info": {
   "codemirror_mode": {
    "name": "ipython",
    "version": 3
   },
   "file_extension": ".py",
   "mimetype": "text/x-python",
   "name": "python",
   "nbconvert_exporter": "python",
   "pygments_lexer": "ipython3",
   "version": "3.9.6"
  }
 },
 "nbformat": 4,
 "nbformat_minor": 2
}
