{
 "cells": [
  {
   "cell_type": "code",
   "execution_count": 6,
   "metadata": {},
   "outputs": [],
   "source": [
    "import networkx as nx\n",
    "import numpy as np\n",
    "import cvxpy as cp\n",
    "import pandas as pd"
   ]
  },
  {
   "cell_type": "markdown",
   "metadata": {},
   "source": [
    "Problem setup: \n",
    "\n",
    "Paramters: \n",
    "- $X \\in \\mathbb{R}^{n \\times n}$ where $X_{i,j}$ represents the amt transit from i to j. \n",
    "    - $X_{m,n} = 0$ if we couldn't transit from i to j  \n",
    "- $T \\in \\mathbb{R}^{n \\times n}$ where $X_{i,j}$ represents the price of i in terms of j. \n",
    "\n",
    "Objective: \n",
    "- $\\min T X^T$\n",
    "\n",
    "Constraints: \n",
    "- $\\sum_j X_{ij} - \\sum_j X_{ji} = 0 \\quad \\forall i$  i.e. inflow = outflow \n",
    "- $X_{ij} > 0 \\quad \\forall i,j$"
   ]
  },
  {
   "cell_type": "code",
   "execution_count": 106,
   "metadata": {},
   "outputs": [],
   "source": [
    "def init(df): \n",
    "    # init currency info \n",
    "    syms = df.symbol.unique()\n",
    "    currency_set = set()\n",
    "    for s in syms: \n",
    "        currency_set.add(s.split(\"/\")[0])\n",
    "        currency_set.add(s.split(\"/\")[1])\n",
    "    currency_set = list(currency_set)\n",
    "    currency2index = {}\n",
    "    for i, s in enumerate(currency_set): \n",
    "        currency2index[s] = i\n",
    "    return currency_set, currency2index\n",
    "\n",
    "def update_price_mtx(df, currency_set, currency2index): \n",
    "    transit_price_mtx = np.ones((len(currency_set), len(currency_set)))\n",
    "    for i in range(len(df)): \n",
    "        ticker = df[\"symbol\"].iloc[i]\n",
    "        base = ticker.split(\"/\")[0]\n",
    "        quote = ticker.split(\"/\")[1]\n",
    "        if base in currency_set and quote in currency_set: \n",
    "            base_idx = currency2index[base]\n",
    "            quote_idx = currency2index[quote]\n",
    "            transit_price_mtx[base_idx, quote_idx] = df[\"bid\"].iloc[i]\n",
    "            transit_price_mtx[quote_idx, base_idx] = 1 / df[\"ask\"].iloc[i]\n",
    "    return transit_price_mtx\n",
    "    \n",
    "def get_var_loc(df, currency_set, currency2index): \n",
    "    var_loc = np.zeros((len(currency_set), len(currency_set)))\n",
    "    for s in df.symbol.unique(): \n",
    "        base = s.split(\"/\")[0]\n",
    "        quote = s.split(\"/\")[1]\n",
    "        base_idx = currency2index[base]\n",
    "        quote_idx = currency2index[quote]\n",
    "        var_loc[base_idx, quote_idx] = 1\n",
    "        var_loc[quote_idx, base_idx] = 1 \n",
    "    return var_loc\n",
    "\n",
    "def update_obj(price_mtx, var_loc, currency_set): \n",
    "    transit_mtx = np.log(price_mtx)\n",
    "    # transit_mtx = transit_mtx[var_loc]\n",
    "    X = cp.Variable((len(currency_set), len(currency_set)))\n",
    "    obj = cp.Minimize(cp.sum(cp.multiply(transit_mtx, X.T)))\n",
    "    constraints = [\n",
    "        X >= 0, \n",
    "        X @ np.ones(len(currency_set)) ==  X.T @ np.ones(len(currency_set)), \n",
    "        cp.norm(X, \"fro\") <= 1\n",
    "    ]\n",
    "    constraints += [X[i, j] == 0 for i in range(len(currency_set)) for j in range(len(currency_set)) if var_loc[i, j] == 0]\n",
    "    prob = cp.Problem(obj, constraints) \n",
    "    prob.solve()\n",
    "    print(\"status:\", prob.status)\n",
    "    print(\"optimal value\", prob.value)\n",
    "    return X.value\n"
   ]
  },
  {
   "cell_type": "code",
   "execution_count": 46,
   "metadata": {},
   "outputs": [],
   "source": [
    "data = pd.read_csv(\"data.csv\")"
   ]
  },
  {
   "cell_type": "code",
   "execution_count": 47,
   "metadata": {},
   "outputs": [],
   "source": [
    "data.sort_values(by=[\"timestamp\"], inplace=True)"
   ]
  },
  {
   "cell_type": "code",
   "execution_count": 107,
   "metadata": {},
   "outputs": [],
   "source": [
    "def find_arbitrage(df): \n",
    "    currency_set, currency2index = init(df)\n",
    "    price_mtx = update_price_mtx(df, currency_set, currency2index)\n",
    "    var_loc = get_var_loc(df, currency_set, currency2index)\n",
    "    X = update_obj(price_mtx, var_loc, currency_set)"
   ]
  },
  {
   "cell_type": "code",
   "execution_count": 108,
   "metadata": {},
   "outputs": [
    {
     "name": "stdout",
     "output_type": "stream",
     "text": [
      "status: optimal\n",
      "optimal value -0.026907990861100295\n",
      "status: optimal\n",
      "optimal value -0.030902475053949274\n",
      "status: optimal\n",
      "optimal value -0.022143441579955736\n",
      "status: optimal\n",
      "optimal value -0.016933339230669642\n",
      "status: optimal\n",
      "optimal value -0.016880846103179525\n",
      "status: optimal\n",
      "optimal value -0.029523149315987318\n"
     ]
    }
   ],
   "source": [
    "timestamps = data.head(1000).timestamp.unique() \n",
    "for t in timestamps: \n",
    "    find_arbitrage(data[data[\"timestamp\"] == t])"
   ]
  }
 ],
 "metadata": {
  "kernelspec": {
   "display_name": "Python 3",
   "language": "python",
   "name": "python3"
  },
  "language_info": {
   "codemirror_mode": {
    "name": "ipython",
    "version": 3
   },
   "file_extension": ".py",
   "mimetype": "text/x-python",
   "name": "python",
   "nbconvert_exporter": "python",
   "pygments_lexer": "ipython3",
   "version": "3.9.6"
  }
 },
 "nbformat": 4,
 "nbformat_minor": 2
}
